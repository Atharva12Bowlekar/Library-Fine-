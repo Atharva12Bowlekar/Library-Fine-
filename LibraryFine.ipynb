{
 "cells": [
  {
   "cell_type": "code",
   "execution_count": 1,
   "metadata": {},
   "outputs": [],
   "source": [
    "def libraryFine(d1, m1, y1, d2, m2, y2):\n",
    "    fine=0\n",
    "    if(y1==y2):\n",
    "        if(m1==m2):\n",
    "            if(d1<=d2):\n",
    "                fine=0\n",
    "            else:\n",
    "                fine=(d1-d2)*15\n",
    "        elif(m1<m2):\n",
    "            fine=0\n",
    "        else:\n",
    "            fine=500*(m1-m2)\n",
    "    elif(y1<y2):\n",
    "        fine=0\n",
    "    else:\n",
    "        fine=10000\n",
    "    return fine"
   ]
  },
  {
   "cell_type": "code",
   "execution_count": 2,
   "metadata": {},
   "outputs": [
    {
     "data": {
      "text/plain": [
       "45"
      ]
     },
     "execution_count": 2,
     "metadata": {},
     "output_type": "execute_result"
    }
   ],
   "source": [
    "libraryFine(9,6,2015,6,6,2015)"
   ]
  },
  {
   "cell_type": "code",
   "execution_count": null,
   "metadata": {},
   "outputs": [],
   "source": []
  }
 ],
 "metadata": {
  "kernelspec": {
   "display_name": "Python 3",
   "language": "python",
   "name": "python3"
  },
  "language_info": {
   "codemirror_mode": {
    "name": "ipython",
    "version": 3
   },
   "file_extension": ".py",
   "mimetype": "text/x-python",
   "name": "python",
   "nbconvert_exporter": "python",
   "pygments_lexer": "ipython3",
   "version": "3.8.3"
  }
 },
 "nbformat": 4,
 "nbformat_minor": 4
}
